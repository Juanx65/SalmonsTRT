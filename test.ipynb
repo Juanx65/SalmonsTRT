{
 "cells": [
  {
   "cell_type": "code",
   "execution_count": 2,
   "metadata": {},
   "outputs": [],
   "source": [
    "import cv2\n",
    "import numpy as np"
   ]
  },
  {
   "cell_type": "code",
   "execution_count": 8,
   "metadata": {},
   "outputs": [],
   "source": [
    "def comparar_imagenes(imagen1, imagen2):\n",
    "    # Cargar imágenes\n",
    "    img1 = cv2.imread(imagen1, cv2.IMREAD_GRAYSCALE)\n",
    "    img2 = cv2.imread(imagen2, cv2.IMREAD_GRAYSCALE)\n",
    "    \n",
    "    # Verificar que las imágenes tengan el mismo tamaño\n",
    "    if img1.shape != img2.shape:\n",
    "        raise ValueError(\"Las imágenes deben tener el mismo tamaño y número de canales\")\n",
    "\n",
    "    # Restar imágenes\n",
    "    diferencia = cv2.absdiff(img1, img2)\n",
    "    \n",
    "    # Umbralizar la imagen de diferencia para obtener una imagen binaria\n",
    "    _, imagen_binaria = cv2.threshold(diferencia, 10, 255, cv2.THRESH_BINARY)\n",
    "\n",
    "    return imagen_binaria"
   ]
  },
  {
   "cell_type": "code",
   "execution_count": 9,
   "metadata": {},
   "outputs": [
    {
     "data": {
      "text/plain": [
       "True"
      ]
     },
     "execution_count": 9,
     "metadata": {},
     "output_type": "execute_result"
    }
   ],
   "source": [
    "# Ejemplo de cómo llamar la función\n",
    "# Reemplaza 'ruta_a_imagen1.jpg' y 'ruta_a_imagen2.jpg' con las rutas de tus imágenes\n",
    "imagen_binaria_resultado = comparar_imagenes('outputs/segmentation/vanilla.jpeg', 'outputs/segmentation/int8.jpeg')\n",
    "\n",
    "cv2.imwrite('outputs/segmentation/vanilla_vs_int8.png', imagen_binaria_resultado)"
   ]
  },
  {
   "cell_type": "markdown",
   "metadata": {},
   "source": []
  }
 ],
 "metadata": {
  "kernelspec": {
   "display_name": "env",
   "language": "python",
   "name": "python3"
  },
  "language_info": {
   "codemirror_mode": {
    "name": "ipython",
    "version": 3
   },
   "file_extension": ".py",
   "mimetype": "text/x-python",
   "name": "python",
   "nbconvert_exporter": "python",
   "pygments_lexer": "ipython3",
   "version": "3.10.12"
  }
 },
 "nbformat": 4,
 "nbformat_minor": 2
}
