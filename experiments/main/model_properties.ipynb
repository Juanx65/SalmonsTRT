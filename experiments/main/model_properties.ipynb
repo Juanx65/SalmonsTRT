{
 "cells": [
  {
   "cell_type": "code",
   "execution_count": null,
   "metadata": {},
   "outputs": [],
   "source": [
    "import os\n",
    "import subprocess\n",
    "import re\n",
    "from ultralytics import YOLO"
   ]
  },
  {
   "cell_type": "code",
   "execution_count": null,
   "metadata": {},
   "outputs": [],
   "source": [
    "def get_model_size_MB(model_path):\n",
    "    return os.path.getsize(model_path) / (1024 * 1024) "
   ]
  },
  {
   "cell_type": "code",
   "execution_count": null,
   "metadata": {},
   "outputs": [],
   "source": [
    "def get_parameters_base_model(model):\n",
    "    total_capas = sum(1 for _ in model.modules())\n",
    "    total_parametros = sum(p.numel() for p in model.parameters())\n",
    "    #summary(model, (3,224,224)) ## summary modelo pth o pt segun pytorch\n",
    "    return total_capas, total_parametros"
   ]
  },
  {
   "cell_type": "markdown",
   "metadata": {},
   "source": [
    "## dependiendo del nombre del env, en mi caso \"salmons\" recuerda instalar pip install polygraphy para poder contar las capas y parametros del engine"
   ]
  },
  {
   "cell_type": "code",
   "execution_count": null,
   "metadata": {},
   "outputs": [],
   "source": [
    "#get layer of an .eninge or a .onnx model\n",
    "def get_layers(is_trt, model_path):\n",
    "    # para que funcione como sudo es necesario correr desde el path del enviroment env/bin/polygraphy\n",
    "    if is_trt:\n",
    "        cmd = f\"../../salmons/bin/polygraphy inspect model {model_path}\"\n",
    "    else:\n",
    "        cmd = f\"../../salmons/bin/polygraphy inspect model {model_path} --display-as=trt\"\n",
    "\n",
    "    # Ejecuta el comando y captura la salida\n",
    "    process = subprocess.Popen(cmd, shell=True, stdout=subprocess.PIPE, stderr=subprocess.PIPE)\n",
    "    stdout, stderr = process.communicate()\n",
    "\n",
    "    # Decodifica la salida a texto\n",
    "    output = stdout.decode()\n",
    "\n",
    "    # Usa una expresión regular para encontrar el número de capas\n",
    "    match = re.search(r\"---- (\\d+) Layer\\(s\\) ----\", output)\n",
    "    # Extrae el número de capas si se encuentra el patrón\n",
    "    if match:\n",
    "        num_layers = int(match.group(1))\n",
    "        return num_layers\n",
    "    else:\n",
    "        print(\"No se encontró el número de capas\")\n",
    "        return 0"
   ]
  },
  {
   "cell_type": "code",
   "execution_count": null,
   "metadata": {},
   "outputs": [],
   "source": [
    "# get parameters from engine or onnx model\n",
    "def get_parametros(is_trt, model_path):\n",
    "    if is_trt:\n",
    "        cmd = f\"../../salmons/bin/python ../../utils/param_counter.py --engine {model_path}\"\n",
    "    else:\n",
    "        cmd = f\"../../salmons/bin/onnx_opcounter {model_path}\"\n",
    "\n",
    "    # Ejecuta el comando y captura la salida\n",
    "    process = subprocess.Popen(cmd, shell=True, stdout=subprocess.PIPE, stderr=subprocess.PIPE)\n",
    "    stdout, stderr = process.communicate()\n",
    "\n",
    "    # Decodifica la salida a texto\n",
    "    output = stdout.decode()\n",
    "\n",
    "    # Usa una expresión regular para encontrar el número de capas\n",
    "    match = re.search(r\"Number of parameters in the model: (\\d+)\", output)\n",
    "    if match:\n",
    "        num_parameters = int(match.group(1))\n",
    "        return num_parameters\n",
    "    else:\n",
    "        print(\"No se encontró el número de parametros\")\n",
    "        return 0"
   ]
  },
  {
   "cell_type": "code",
   "execution_count": null,
   "metadata": {},
   "outputs": [],
   "source": [
    "model_path = '../../weights/yolov8lsalmons.pt'\n",
    "print(\"Model Size = \", get_model_size_MB(model_path))\n",
    "print(\"# Layers = \", get_parameters_base_model(YOLO(model_path))[0], \"\\n# Parameters = \", get_parameters_base_model(YOLO(model_path))[1])"
   ]
  },
  {
   "cell_type": "code",
   "execution_count": null,
   "metadata": {},
   "outputs": [],
   "source": [
    "model_path = '../weights/yolov8lsalmons_fp32.engine'\n",
    "print(\"TRT fp32\")\n",
    "print(\"Model Size = \", get_model_size_MB('../'+model_path))\n",
    "print(\"# Layers = \", get_layers(True,'../'+model_path), \"\\n# Parameters = \", get_parametros(True, model_path))"
   ]
  },
  {
   "cell_type": "code",
   "execution_count": null,
   "metadata": {},
   "outputs": [],
   "source": [
    "model_path = '../weights/yolov8lsalmons_fp16_bs32_oplvl3.engine'\n",
    "print(\"TRT fp16\")\n",
    "print(\"Model Size = \", get_model_size_MB('../'+model_path))\n",
    "print(\"# Layers = \", get_layers(True,'../'+model_path), \"\\n# Parameters = \", get_parametros(True, model_path))"
   ]
  },
  {
   "cell_type": "code",
   "execution_count": null,
   "metadata": {},
   "outputs": [],
   "source": [
    "model_path = '../weights/yolov8lsalmons_int8_bs32.engine'\n",
    "print(\"TRT int8\")\n",
    "print(\"Model Size = \", get_model_size_MB('../'+model_path))\n",
    "print(\"# Layers = \", get_layers(True,'../'+model_path), \"\\n# Parameters = \", get_parametros(True, model_path))"
   ]
  }
 ],
 "metadata": {
  "kernelspec": {
   "display_name": "salmons",
   "language": "python",
   "name": "python3"
  },
  "language_info": {
   "codemirror_mode": {
    "name": "ipython",
    "version": 3
   },
   "file_extension": ".py",
   "mimetype": "text/x-python",
   "name": "python",
   "nbconvert_exporter": "python",
   "pygments_lexer": "ipython3",
   "version": "3.10.12"
  }
 },
 "nbformat": 4,
 "nbformat_minor": 2
}
