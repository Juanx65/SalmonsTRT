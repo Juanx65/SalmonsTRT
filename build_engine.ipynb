{
 "cells": [
  {
   "cell_type": "code",
   "execution_count": null,
   "metadata": {},
   "outputs": [],
   "source": [
    "import os\n",
    "from ultralytics import YOLO\n",
    "import logging\n",
    "logging.getLogger('matplotlib').setLevel(logging.WARNING)"
   ]
  },
  {
   "cell_type": "code",
   "execution_count": null,
   "metadata": {},
   "outputs": [],
   "source": [
    "# CONSTANTES\n",
    "BATCH_SIZE = -1\n",
    "C = 3 # number of channels of the input image\n",
    "H = 224 # heigh of the input image\n",
    "W = 224 # width of the input image\n",
    "current_directory = os.getcwd()"
   ]
  },
  {
   "cell_type": "markdown",
   "metadata": {},
   "source": [
    "## ONNX: Model conversion"
   ]
  },
  {
   "cell_type": "code",
   "execution_count": null,
   "metadata": {},
   "outputs": [],
   "source": [
    "%run onnx_transform.py --weights weights/yolov11salmons.pt --input_shape $BATCH_SIZE $C $H $W"
   ]
  },
  {
   "cell_type": "markdown",
   "metadata": {},
   "source": [
    "## TRT fp32"
   ]
  },
  {
   "cell_type": "code",
   "execution_count": null,
   "metadata": {},
   "outputs": [],
   "source": [
    "%run build_trt.py --weights weights/yolov11salmons.onnx  --fp32 --input_shape $BATCH_SIZE $C $H $W --engine_name yolov11salmons_fp32.engine"
   ]
  },
  {
   "cell_type": "markdown",
   "metadata": {},
   "source": [
    "## TRT fp16"
   ]
  },
  {
   "cell_type": "code",
   "execution_count": null,
   "metadata": {},
   "outputs": [],
   "source": [
    "%run build_trt.py --weights weights/yolov11salmons.onnx  --fp16 --input_shape $BATCH_SIZE $C $H $W --engine_name yolov11salmons_fp16.engine"
   ]
  },
  {
   "cell_type": "markdown",
   "metadata": {},
   "source": [
    "## TRT int8"
   ]
  },
  {
   "cell_type": "code",
   "execution_count": null,
   "metadata": {},
   "outputs": [],
   "source": [
    "%run build_trt.py --weights weights/yolov11salmons.onnx  --int8 --input_shape $BATCH_SIZE $C $H $W --engine_name yolov11salmons_int8.engine"
   ]
  },
  {
   "cell_type": "markdown",
   "metadata": {},
   "source": [
    "## validate"
   ]
  },
  {
   "cell_type": "code",
   "execution_count": null,
   "metadata": {},
   "outputs": [],
   "source": [
    "model = YOLO('weights/yolov11salmons.engine', task='segment')\n",
    "metrics = model.val(data='datasets/salmons/salmons.yaml', imgsz=224, task='segment', verbose=False,conf=0.4,device='cuda',batch=1)\n",
    "print('base model box mAP50: ', metrics.box.map50)\n",
    "print('base model box mAP50-95: ', metrics.box.map)"
   ]
  }
 ],
 "metadata": {
  "kernelspec": {
   "display_name": "salmons",
   "language": "python",
   "name": "python3"
  },
  "language_info": {
   "codemirror_mode": {
    "name": "ipython",
    "version": 3
   },
   "file_extension": ".py",
   "mimetype": "text/x-python",
   "name": "python",
   "nbconvert_exporter": "python",
   "pygments_lexer": "ipython3",
   "version": "3.10.12"
  }
 },
 "nbformat": 4,
 "nbformat_minor": 2
}
